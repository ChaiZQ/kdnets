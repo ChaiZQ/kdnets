{
 "cells": [
  {
   "cell_type": "markdown",
   "metadata": {},
   "source": [
    "# ModelNet10"
   ]
  },
  {
   "cell_type": "code",
   "execution_count": 1,
   "metadata": {
    "collapsed": false
   },
   "outputs": [],
   "source": [
    "from lib.processors.modelnet10 import prepare"
   ]
  },
  {
   "cell_type": "code",
   "execution_count": 2,
   "metadata": {
    "collapsed": false
   },
   "outputs": [
    {
     "name": "stdout",
     "output_type": "stream",
     "text": [
      "bathtub - processed\n",
      "bed - processed\n",
      "chair - processed\n",
      "desk - processed\n",
      "dresser - processed\n",
      "monitor - processed\n",
      "night_stand - processed\n",
      "sofa - processed\n",
      "table - processed\n",
      "toilet - processed\n",
      "\n",
      "Data is processed and saved to /home/klokov/Data/ModelNet10_data//modelnet10.h5\n",
      "\n",
      "class2label = {\n",
      "    \"bathtub\": 0,\n",
      "    \"bed\": 1,\n",
      "    \"chair\": 2,\n",
      "    \"desk\": 3,\n",
      "    \"dresser\": 4,\n",
      "    \"monitor\": 5,\n",
      "    \"night_stand\": 6,\n",
      "    \"sofa\": 7,\n",
      "    \"table\": 8,\n",
      "    \"toilet\": 9\n",
      "}\n"
     ]
    }
   ],
   "source": [
    "path2data = '/path/to/modelnet10'\n",
    "path2save = '/path/to/directory/where/results/will/be/stored'\n",
    "\n",
    "prepare(path2data, path2save)"
   ]
  },
  {
   "cell_type": "markdown",
   "metadata": {},
   "source": [
    "# ModelNet40"
   ]
  },
  {
   "cell_type": "code",
   "execution_count": 1,
   "metadata": {
    "collapsed": true
   },
   "outputs": [],
   "source": [
    "from lib.data_processers.modelnet40 import prepare"
   ]
  },
  {
   "cell_type": "code",
   "execution_count": 2,
   "metadata": {
    "collapsed": false
   },
   "outputs": [
    {
     "name": "stdout",
     "output_type": "stream",
     "text": [
      "airplane - processed\n",
      "bathtub - processed\n",
      "bed - processed\n",
      "bench - processed\n",
      "bookshelf - processed\n",
      "bottle - processed\n",
      "bowl - processed\n",
      "car - processed\n",
      "chair - processed\n",
      "cone - processed\n",
      "cup - processed\n",
      "curtain - processed\n",
      "desk - processed\n",
      "door - processed\n",
      "dresser - processed\n",
      "flower_pot - processed\n",
      "glass_box - processed\n",
      "guitar - processed\n",
      "keyboard - processed\n",
      "lamp - processed\n",
      "laptop - processed\n",
      "mantel - processed\n",
      "monitor - processed\n",
      "night_stand - processed\n",
      "person - processed\n",
      "piano - processed\n",
      "plant - processed\n",
      "radio - processed\n",
      "range_hood - processed\n",
      "sink - processed\n",
      "sofa - processed\n",
      "stairs - processed\n",
      "stool - processed\n",
      "table - processed\n",
      "tent - processed\n",
      "toilet - processed\n",
      "tv_stand - processed\n",
      "vase - processed\n",
      "wardrobe - processed\n",
      "xbox - processed\n",
      "\n",
      "Data in /home/klokov/Data/ModelNet40 is processed and saved to /home/klokov/Data/ModelNet40_data/modelnet40.h5\n",
      "\n",
      "class2label = {\n",
      "    \"airplane\": 0,\n",
      "    \"bathtub\": 1,\n",
      "    \"bed\": 2,\n",
      "    \"bench\": 3,\n",
      "    \"bookshelf\": 4,\n",
      "    \"bottle\": 5,\n",
      "    \"bowl\": 6,\n",
      "    \"car\": 7,\n",
      "    \"chair\": 8,\n",
      "    \"cone\": 9,\n",
      "    \"cup\": 10,\n",
      "    \"curtain\": 11,\n",
      "    \"desk\": 12,\n",
      "    \"door\": 13,\n",
      "    \"dresser\": 14,\n",
      "    \"flower_pot\": 15,\n",
      "    \"glass_box\": 16,\n",
      "    \"guitar\": 17,\n",
      "    \"keyboard\": 18,\n",
      "    \"lamp\": 19,\n",
      "    \"laptop\": 20,\n",
      "    \"mantel\": 21,\n",
      "    \"monitor\": 22,\n",
      "    \"night_stand\": 23,\n",
      "    \"person\": 24,\n",
      "    \"piano\": 25,\n",
      "    \"plant\": 26,\n",
      "    \"radio\": 27,\n",
      "    \"range_hood\": 28,\n",
      "    \"sink\": 29,\n",
      "    \"sofa\": 30,\n",
      "    \"stairs\": 31,\n",
      "    \"stool\": 32,\n",
      "    \"table\": 33,\n",
      "    \"tent\": 34,\n",
      "    \"toilet\": 35,\n",
      "    \"tv_stand\": 36,\n",
      "    \"vase\": 37,\n",
      "    \"wardrobe\": 38,\n",
      "    \"xbox\": 39\n",
      "}\n"
     ]
    }
   ],
   "source": [
    "path2data = '/path/to/modelnet40'\n",
    "path2save = '/path/to/directory/where/results/will/be/stored'\n",
    "\n",
    "prepare(path2data, path2save)"
   ]
  },
  {
   "cell_type": "markdown",
   "metadata": {},
   "source": [
    "# ShapeNet"
   ]
  },
  {
   "cell_type": "code",
   "execution_count": null,
   "metadata": {
    "collapsed": true
   },
   "outputs": [],
   "source": [
    "from lib.data_processersessers.shapenet import prepare"
   ]
  },
  {
   "cell_type": "code",
   "execution_count": null,
   "metadata": {
    "collapsed": true
   },
   "outputs": [],
   "source": [
    "# path2data = '/path/to/shapenet'\n",
    "# path2save = '/path/to/directory/where/results/will/be/stored'\n",
    "# pose = 'normal'# or 'perturbed'\n",
    "\n",
    "prepare('', '')"
   ]
  }
 ],
 "metadata": {
  "anaconda-cloud": {},
  "kernelspec": {
   "display_name": "Python [default]",
   "language": "python",
   "name": "python2"
  },
  "language_info": {
   "codemirror_mode": {
    "name": "ipython",
    "version": 2
   },
   "file_extension": ".py",
   "mimetype": "text/x-python",
   "name": "python",
   "nbconvert_exporter": "python",
   "pygments_lexer": "ipython2",
   "version": "2.7.12"
  }
 },
 "nbformat": 4,
 "nbformat_minor": 1
}
