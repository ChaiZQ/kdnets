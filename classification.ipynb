{
 "cells": [
  {
   "cell_type": "markdown",
   "metadata": {},
   "source": [
    "## Configure"
   ]
  },
  {
   "cell_type": "code",
   "execution_count": 1,
   "metadata": {
    "collapsed": false
   },
   "outputs": [],
   "source": [
    "config = {\n",
    "    # General\n",
    "    'batchsize': 227,\n",
    "    'shuffle': True,\n",
    "    # Augmentations\n",
    "    'flip': False,\n",
    "    'ascale': True,\n",
    "    'as_min': 0.6667,\n",
    "    'as_max': 1.5,\n",
    "    'rotate': False,\n",
    "    'r_positions': 12,\n",
    "    'translate': True,\n",
    "    't_rate': 0.1,\n",
    "    # Point clouds and kd-trees generation\n",
    "    'steps': 10, # also control the depth of the network\n",
    "    'lim': 1,\n",
    "    'det': False,\n",
    "    'gamma': 10.,\n",
    "    # NN options\n",
    "    'input_features': 'all', # 'all' for point coordinates, 'no' for feeding 1's as point features\n",
    "    'n_f': [16, \n",
    "            32,  32,  64,  64,  128, 128, 256, 256, 512, 128], # representation sizes\n",
    "    'n_output': 10,\n",
    "    'l2_regularization': 1e-3,\n",
    "    'learning_rate': 1e-3\n",
    "}"
   ]
  },
  {
   "cell_type": "markdown",
   "metadata": {},
   "source": [
    "## Load"
   ]
  },
  {
   "cell_type": "code",
   "execution_count": 2,
   "metadata": {
    "collapsed": true
   },
   "outputs": [],
   "source": [
    "import h5py as h5\n",
    "import numpy as np"
   ]
  },
  {
   "cell_type": "code",
   "execution_count": 3,
   "metadata": {
    "collapsed": false
   },
   "outputs": [],
   "source": [
    "path2data = \"/home/klokov/Data/ModelNet10_data/modelnet10.h5\"\n",
    "with h5.File(path2data, 'r') as hf:\n",
    "    train_vertices = np.array(hf.get('train_vertices'))\n",
    "    train_faces = np.array(hf.get('train_faces'))\n",
    "    train_nFaces = np.array(hf.get('train_nFaces'))\n",
    "    train_labels = np.array(hf.get('train_labels'))\n",
    "    test_vertices = np.array(hf.get('test_vertices'))\n",
    "    test_faces = np.array(hf.get('test_faces'))\n",
    "    test_nFaces = np.array(hf.get('test_nFaces'))\n",
    "    test_labels = np.array(hf.get('test_labels'))"
   ]
  },
  {
   "cell_type": "markdown",
   "metadata": {},
   "source": [
    "## Build"
   ]
  },
  {
   "cell_type": "code",
   "execution_count": 4,
   "metadata": {
    "collapsed": false
   },
   "outputs": [
    {
     "name": "stderr",
     "output_type": "stream",
     "text": [
      "WARNING (theano.sandbox.cuda): The cuda backend is deprecated and will be removed in the next release (v0.10).  Please switch to the gpuarray backend. You can get more information about how to switch at this URL:\n",
      " https://github.com/Theano/Theano/wiki/Converting-to-the-new-gpu-back-end%28gpuarray%29\n",
      "\n",
      "Using gpu device 0: GeForce GTX 970 (CNMeM is enabled with initial size: 90.0% of memory, cuDNN 5110)\n"
     ]
    }
   ],
   "source": [
    "from lib.nn.models import build_classification_network\n",
    "\n",
    "train_fun, prob_fun, net, lr = build_classification_network(config)"
   ]
  },
  {
   "cell_type": "code",
   "execution_count": null,
   "metadata": {
    "collapsed": true
   },
   "outputs": [],
   "source": [
    "from lib.nn.utilities import load_weights\n",
    "\n",
    "load_weights('/home/klokov/Data/ModelNet10_data/models/test.pkl', net['output'])"
   ]
  },
  {
   "cell_type": "markdown",
   "metadata": {},
   "source": [
    "## Train"
   ]
  },
  {
   "cell_type": "code",
   "execution_count": null,
   "metadata": {
    "collapsed": true
   },
   "outputs": [],
   "source": [
    "from sys import stdout\n",
    "from time import time\n",
    "\n",
    "from lib.iterators.iterator import Iterator\n",
    "from lib.nn.utilities import acc_fun\n",
    "from lib.nn.utilities import dump_weights\n",
    "\n",
    "training\n",
    "\n",
    "num_epochs = 25\n",
    "num_batches = train_labels / config['batchsize']\n",
    "num_save = 5\n",
    "\n",
    "train_accuracy = np.zeros(num_epochs, dtype=np.float32)\n",
    "test_accuracy = np.zeros(num_epochs/saven, dtype=np.float32)\n",
    "\n",
    "for epoch in xrange(num_epochs):\n",
    "    start_time = time()\n",
    "    \n",
    "    train_err = 0.\n",
    "    train_acc = 0.\n",
    "    for i in xrange(num_batches):\n",
    "        batch = training_iterator.generate()\n",
    "        train_err_batch, train_acc_batch = train_fun(batch[0], \n",
    "                                                     batch[1], batch[2], batch[3], batch[4], batch[5], \n",
    "                                                     batch[6], batch[7], batch[8], batch[9], batch[10],\n",
    "                                                     batch[11])\n",
    "        train_err += train_err_batch*len(batch[0])\n",
    "        train_acc += train_acc_batch*len(batch[0])\n",
    "\n",
    "        stdout.write('\\rEpoch progress: {}/{}\\tAccuracy: {:.2f} %\\t\\tLoss: {:.5f}'\n",
    "                     .format(train_batchsize*(i+1),\n",
    "                     len(train_nFaces)/train_batchsize*train_batchsize,\n",
    "                     100*train_acc/(train_batchsize*(i+1)),\n",
    "                     train_err/(train_batchsize*(i+1))))\n",
    "        stdout.flush()\n",
    "    stdout.write('\\n')\n",
    "    stdout.flush()\n",
    "        \n",
    "    train_accuracy[epoch] = 100*train_acc/np.float32(train_batchsize*i)\n",
    "        \n",
    "    print(\"Epoch {} of {} took {:.3f}s\".format(epoch + 1, num_epochs, time() - start_time))\n",
    "    print(\"  training loss (in-iteration):\\t\\t{:.6f}\".format(train_err/(train_batchsize*i)))\n",
    "    print(\"  train accuracy:\\t\\t{:.2f} %\".format(train_accuracy[epoch]))\n",
    "    if (epoch+1) % saven == 0:\n",
    "        test_accuracy[epoch/saven] = acc_fun(test_vertices, test_faces, test_nFaces, test_labels, n_ens=10)\n",
    "        print(\"  test accuracy:\\t\\t{:.2f} %\".format(test_accuracy[epoch/saven]))\n",
    "\n",
    "    if (epoch+1) % 1 == 0:\n",
    "        dump_weights('RT_AS+TR_10.pkl')\n",
    "        print '  Model saved!'"
   ]
  }
 ],
 "metadata": {
  "anaconda-cloud": {},
  "kernelspec": {
   "display_name": "Python [default]",
   "language": "python",
   "name": "python2"
  },
  "language_info": {
   "codemirror_mode": {
    "name": "ipython",
    "version": 2
   },
   "file_extension": ".py",
   "mimetype": "text/x-python",
   "name": "python",
   "nbconvert_exporter": "python",
   "pygments_lexer": "ipython2",
   "version": "2.7.12"
  }
 },
 "nbformat": 4,
 "nbformat_minor": 1
}
